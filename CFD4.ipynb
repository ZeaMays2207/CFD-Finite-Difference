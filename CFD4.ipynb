{
 "cells": [
  {
   "cell_type": "markdown",
   "id": "ea23cc0a",
   "metadata": {},
   "source": [
    "In this notebook, we use Sympy for evaluating the boundary condition. We also print the result in LaTeX."
   ]
  },
  {
   "cell_type": "code",
   "execution_count": 1,
   "id": "11faa294",
   "metadata": {},
   "outputs": [],
   "source": [
    "import numpy as np\n",
    "import sympy as sp"
   ]
  },
  {
   "cell_type": "code",
   "execution_count": 2,
   "id": "80012786",
   "metadata": {},
   "outputs": [],
   "source": [
    "sp.init_printing(use_latex=True)"
   ]
  },
  {
   "cell_type": "markdown",
   "id": "de8c419f",
   "metadata": {},
   "source": [
    "Declaring the variables and function:"
   ]
  },
  {
   "cell_type": "code",
   "execution_count": 3,
   "id": "6a756b8a",
   "metadata": {},
   "outputs": [],
   "source": [
    "x,nu,t = sp.symbols('x nu t')\n",
    "phi = (sp.exp(-(x-4*t)**2)/(4*nu*(t+1))) + sp.exp((-(x-4*t-2*sp.pi)**2)/(4*nu))"
   ]
  },
  {
   "cell_type": "code",
   "execution_count": 4,
   "id": "c9a55d7a",
   "metadata": {},
   "outputs": [
    {
     "data": {
      "image/png": "[encoded data removed]",
      "text/latex": [
       "$\\displaystyle e^{- \\frac{\\left(- 4 t + x - 2 \\pi\\right)^{2}}{4 \\nu}} + \\frac{e^{- \\left(- 4 t + x\\right)^{2}}}{4 \\nu \\left(t + 1\\right)}$"
      ],
      "text/plain": [
       "                  2                 \n",
       " -(-4⋅t + x - 2⋅π)                 2\n",
       " ───────────────────    -(-4⋅t + x) \n",
       "         4⋅ν           ℯ            \n",
       "ℯ                    + ─────────────\n",
       "                        4⋅ν⋅(t + 1) "
      ]
     },
     "execution_count": 4,
     "metadata": {},
     "output_type": "execute_result"
    }
   ],
   "source": [
    "phi"
   ]
  },
  {
   "cell_type": "code",
   "execution_count": 5,
   "id": "97f5f4ce",
   "metadata": {},
   "outputs": [
    {
     "data": {
      "image/png": "[encoded data removed]",
      "text/latex": [
       "$\\displaystyle e^{- \\frac{\\left(- 4 t + x - 2 \\pi\\right)^{2}}{4 \\nu \\left(t + 1\\right)}} + e^{- \\frac{\\left(- 4 t + x\\right)^{2}}{4 \\nu \\left(t + 1\\right)}}$"
      ],
      "text/plain": [
       "                  2                2 \n",
       " -(-4⋅t + x - 2⋅π)      -(-4⋅t + x)  \n",
       " ───────────────────    ─────────────\n",
       "     4⋅ν⋅(t + 1)         4⋅ν⋅(t + 1) \n",
       "ℯ                    + ℯ             "
      ]
     },
     "execution_count": 5,
     "metadata": {},
     "output_type": "execute_result"
    }
   ],
   "source": [
    "phi = sp.exp((-1*(x-4*t)**2)/(4*nu*(t+1))) + sp.exp((-1*(x-4*t-2*sp.pi)**2)/(4*nu*(t+1)))\n",
    "phi"
   ]
  },
  {
   "cell_type": "code",
   "execution_count": 6,
   "id": "52526a43",
   "metadata": {},
   "outputs": [
    {
     "data": {
      "image/png": "[encoded data removed]",
      "text/latex": [
       "$\\displaystyle - \\frac{\\left(- 8 t + 2 x\\right) e^{- \\frac{\\left(- 4 t + x\\right)^{2}}{4 \\nu \\left(t + 1\\right)}}}{4 \\nu \\left(t + 1\\right)} - \\frac{\\left(- 8 t + 2 x - 4 \\pi\\right) e^{- \\frac{\\left(- 4 t + x - 2 \\pi\\right)^{2}}{4 \\nu \\left(t + 1\\right)}}}{4 \\nu \\left(t + 1\\right)}$"
      ],
      "text/plain": [
       "                           2                                         2 \n",
       "                -(-4⋅t + x)                         -(-4⋅t + x - 2⋅π)  \n",
       "                ─────────────                       ───────────────────\n",
       "                 4⋅ν⋅(t + 1)                            4⋅ν⋅(t + 1)    \n",
       "  (-8⋅t + 2⋅x)⋅ℯ                (-8⋅t + 2⋅x - 4⋅π)⋅ℯ                   \n",
       "- ─────────────────────────── - ───────────────────────────────────────\n",
       "          4⋅ν⋅(t + 1)                         4⋅ν⋅(t + 1)              "
      ]
     },
     "execution_count": 6,
     "metadata": {},
     "output_type": "execute_result"
    }
   ],
   "source": [
    "phiprime = phi.diff(x)\n",
    "phiprime"
   ]
  },
  {
   "cell_type": "code",
   "execution_count": 7,
   "id": "fb05b28a",
   "metadata": {},
   "outputs": [],
   "source": [
    "from sympy.utilities.lambdify import lambdify"
   ]
  },
  {
   "cell_type": "code",
   "execution_count": 8,
   "id": "5075e06c",
   "metadata": {},
   "outputs": [
    {
     "name": "stdout",
     "output_type": "stream",
     "text": [
      "-2*nu*(-(-8*t + 2*x)*exp(-(-4*t + x)**2/(4*nu*(t + 1)))/(4*nu*(t + 1)) - (-8*t + 2*x - 4*pi)*exp(-(-4*t + x - 2*pi)**2/(4*nu*(t + 1)))/(4*nu*(t + 1)))/(exp(-(-4*t + x - 2*pi)**2/(4*nu*(t + 1))) + exp(-(-4*t + x)**2/(4*nu*(t + 1)))) + 4\n"
     ]
    }
   ],
   "source": [
    "u = ((-2*nu/phi)*phiprime) + 4\n",
    "print(u)"
   ]
  },
  {
   "cell_type": "markdown",
   "id": "46535bc3",
   "metadata": {},
   "source": [
    "Here, we use the 'lambdify' option to evaluate the function value for user-selected values of the parameter and variables."
   ]
  },
  {
   "cell_type": "code",
   "execution_count": 9,
   "id": "9d996c5b",
   "metadata": {},
   "outputs": [
    {
     "name": "stdout",
     "output_type": "stream",
     "text": [
      "3.49170664206445\n"
     ]
    }
   ],
   "source": [
    "ufunc = lambdify((t,x,nu),u)\n",
    "print(ufunc(1,4,3))"
   ]
  },
  {
   "cell_type": "code",
   "execution_count": 10,
   "id": "f3361e9e",
   "metadata": {},
   "outputs": [],
   "source": [
    "import matplotlib.pyplot as plt\n",
    "%matplotlib inline"
   ]
  },
  {
   "cell_type": "markdown",
   "id": "49774b88",
   "metadata": {},
   "source": [
    "Declaring the values of parameters and printing out the results of the boundary condition as an array."
   ]
  },
  {
   "cell_type": "code",
   "execution_count": 11,
   "id": "3127b396",
   "metadata": {},
   "outputs": [
    {
     "data": {
      "text/plain": [
       "array([4.        , 4.06283185, 4.12566371, 4.18849556, 4.25132741,\n",
       "       4.31415927, 4.37699112, 4.43982297, 4.50265482, 4.56548668,\n",
       "       4.62831853, 4.69115038, 4.75398224, 4.81681409, 4.87964594,\n",
       "       4.9424778 , 5.00530965, 5.0681415 , 5.13097336, 5.19380521,\n",
       "       5.25663706, 5.31946891, 5.38230077, 5.44513262, 5.50796447,\n",
       "       5.57079633, 5.63362818, 5.69646003, 5.75929189, 5.82212374,\n",
       "       5.88495559, 5.94778745, 6.0106193 , 6.07345115, 6.136283  ,\n",
       "       6.19911486, 6.26194671, 6.32477856, 6.38761042, 6.45044227,\n",
       "       6.51327412, 6.57610598, 6.63893783, 6.70176967, 6.76460125,\n",
       "       6.82742866, 6.89018589, 6.95176632, 6.99367964, 6.72527549,\n",
       "       4.        , 1.27472451, 1.00632036, 1.04823368, 1.10981411,\n",
       "       1.17257134, 1.23539875, 1.29823033, 1.36106217, 1.42389402,\n",
       "       1.48672588, 1.54955773, 1.61238958, 1.67522144, 1.73805329,\n",
       "       1.80088514, 1.863717  , 1.92654885, 1.9893807 , 2.05221255,\n",
       "       2.11504441, 2.17787626, 2.24070811, 2.30353997, 2.36637182,\n",
       "       2.42920367, 2.49203553, 2.55486738, 2.61769923, 2.68053109,\n",
       "       2.74336294, 2.80619479, 2.86902664, 2.9318585 , 2.99469035,\n",
       "       3.0575222 , 3.12035406, 3.18318591, 3.24601776, 3.30884962,\n",
       "       3.37168147, 3.43451332, 3.49734518, 3.56017703, 3.62300888,\n",
       "       3.68584073, 3.74867259, 3.81150444, 3.87433629, 3.93716815,\n",
       "       4.        ])"
      ]
     },
     "execution_count": 11,
     "metadata": {},
     "output_type": "execute_result"
    }
   ],
   "source": [
    "#Variable declarations\n",
    "nx = 101\n",
    "nt = 100\n",
    "dx = 2*np.pi/(nx-1)\n",
    "nu = 0.07\n",
    "dt = dx*nu\n",
    "\n",
    "x = np.linspace(0,2*np.pi,nx)\n",
    "un = np.empty(nx)\n",
    "t = 0\n",
    "\n",
    "u = np.asarray([ufunc(t,x0,nu) for x0 in x])\n",
    "u"
   ]
  },
  {
   "cell_type": "markdown",
   "id": "1ae37634",
   "metadata": {},
   "source": [
    "Plotting the results of the computation:"
   ]
  },
  {
   "cell_type": "code",
   "execution_count": 12,
   "id": "025ef861",
   "metadata": {},
   "outputs": [
    {
     "data": {
      "image/png": "[encoded data removed]",
      "text/latex": [
       "$\\displaystyle \\left( 0.0, \\  10.0\\right)$"
      ],
      "text/plain": [
       "(0.0, 10.0)"
      ]
     },
     "execution_count": 12,
     "metadata": {},
     "output_type": "execute_result"
    },
    {
     "data": {
      "image/png": "[encoded data removed]",
      "text/plain": [
       "<Figure size 1100x700 with 1 Axes>"
      ]
     },
     "metadata": {},
     "output_type": "display_data"
    }
   ],
   "source": [
    "plt.figure(figsize=(11,7), dpi=100)\n",
    "plt.plot(x,u,marker='o',lw=2)\n",
    "plt.xlim([0,2*np.pi])\n",
    "plt.ylim([0,10])"
   ]
  },
  {
   "cell_type": "markdown",
   "id": "4cc9cc3e",
   "metadata": {},
   "source": [
    "Writing a loop for numerically computing the value of $u$:"
   ]
  },
  {
   "cell_type": "code",
   "execution_count": 13,
   "id": "953d1c66",
   "metadata": {},
   "outputs": [],
   "source": [
    "for n in range(nt):\n",
    "    un = u.copy()\n",
    "    for i in range(1,nx-1):\n",
    "        u[i] = un[i] - un[i]*(dt/dx)*(un[i]-un[i-1]) + (nu*dt/(dx**2))*(un[i+1]+un[i-1]-2*un[i])\n",
    "    u[0] = un[0] - un[0]*(dt/dx)*(un[0]-un[-2]) + (nu*dt/(dx**2))*(un[1] - 2*un[0] + un[-2])\n",
    "    u[-1] = u[0]\n",
    "    \n",
    "u_analytical = np.asarray([ufunc(nt*dt,xi,nu) for xi in x])"
   ]
  },
  {
   "cell_type": "markdown",
   "id": "48553fab",
   "metadata": {},
   "source": [
    "Plotting the curves - both the analytical as well as the numerical solutions are plotted to compare the two:"
   ]
  },
  {
   "cell_type": "code",
   "execution_count": 14,
   "id": "8f4e85df",
   "metadata": {},
   "outputs": [
    {
     "data": {
      "text/plain": [
       "<matplotlib.legend.Legend at 0x15d006652e0>"
      ]
     },
     "execution_count": 14,
     "metadata": {},
     "output_type": "execute_result"
    },
    {
     "data": {
      "image/png": "[encoded data removed]",
      "text/plain": [
       "<Figure size 1100x700 with 1 Axes>"
      ]
     },
     "metadata": {},
     "output_type": "display_data"
    }
   ],
   "source": [
    "plt.figure(figsize=(11,7),dpi=100)\n",
    "plt.plot(x,u,marker='o',lw=2,label='Computational')\n",
    "plt.plot(x,u_analytical,label='Analytical')\n",
    "plt.xlim([0,2*np.pi])\n",
    "plt.ylim([0,10])\n",
    "plt.legend()"
   ]
  },
  {
   "cell_type": "code",
   "execution_count": null,
   "id": "0fa85ccb",
   "metadata": {},
   "outputs": [],
   "source": []
  }
 ],
 "metadata": {
  "kernelspec": {
   "display_name": "Python 3 (ipykernel)",
   "language": "python",
   "name": "python3"
  },
  "language_info": {
   "codemirror_mode": {
    "name": "ipython",
    "version": 3
   },
   "file_extension": ".py",
   "mimetype": "text/x-python",
   "name": "python",
   "nbconvert_exporter": "python",
   "pygments_lexer": "ipython3",
   "version": "3.9.13"
  }
 },
 "nbformat": 4,
 "nbformat_minor": 5
}
